{
 "cells": [
  {
   "cell_type": "code",
   "execution_count": 29,
   "metadata": {},
   "outputs": [
    {
     "name": "stdout",
     "output_type": "stream",
     "text": [
      "['Algeria' 'Angola' 'Argentina' 'Australia' 'Austria' 'Bahamas'\n",
      " 'Bangladesh' 'Belarus' 'Belgium' 'Bhutan' 'Brazil' 'Bulgaria' 'Cambodia'\n",
      " 'Cameroon' 'Chile' 'China' 'Colombia' 'Cyprus' 'Denmark' 'El Salvador'\n",
      " 'Estonia' 'Ethiopia' 'Fiji' 'Finland' 'France' 'Georgia' 'Ghana'\n",
      " 'Grenada' 'Guinea' 'Haiti' 'Honduras' 'Hungary' 'India' 'Indonesia'\n",
      " 'Ireland' 'Italy' 'Japan' 'Kenya' 'South Korea' 'Liberia' 'Malaysia'\n",
      " 'Mexico' 'Morocco' 'Nepal' 'New Zealand' 'Norway' 'Pakistan' 'Peru'\n",
      " 'Qatar' 'Russia' 'Singapore' 'South Africa' 'Spain' 'Sweden'\n",
      " 'Switzerland' 'Thailand' 'United Arab Emirates' 'United Kingdom'\n",
      " 'United States' 'Uruguay' 'Venezuela' 'Vietnam' 'Zimbabwe']\n",
      "[ 2255.225482    629.9553062 11601.63022   25306.82494   27266.40335\n",
      " 19466.99052     588.3691778  2890.345675  24733.62696    1445.760002\n",
      "  4803.398244   2618.876037    590.4521124   665.7982328  7122.938458\n",
      "  2639.54156    3362.4656    15378.16704   30860.12808    2579.115607\n",
      "  6525.541272    229.6769525  2242.689259  27570.4852    23016.84778\n",
      "  1334.646773    402.6953275  6047.200797    394.1156638   385.5793827\n",
      "  1414.072488   5745.981529    837.7464011  1206.991065  27715.52837\n",
      " 18937.24998   39578.07441     478.2194906 16684.21278     279.2204061\n",
      "  5345.213415   6288.25324    1908.304416    274.8728621 14646.42094\n",
      " 40034.85063     672.1547506  3359.517402  36152.66676    3054.727742\n",
      " 33529.83052    3825.093781  15428.32098   33630.24604   39170.41371\n",
      "  2699.123242  21058.43643   28272.40661   37691.02733    9581.05659\n",
      "  5671.912202    757.4009286   347.7456605]\n",
      "45\n",
      "Country with Maximum GDP is Norway\n",
      "63\n",
      "Country with Minimum GDP is Ethiopia Country Algeria GDP is 2255.225482\n",
      "Country Angola GDP is 629.9553062\n",
      "Country Argentina GDP is 11601.63022\n",
      "Country Australia GDP is 25306.82494\n",
      "Country Austria GDP is 27266.40335\n",
      "Country Bahamas GDP is 19466.99052\n",
      "Country Bangladesh GDP is 588.3691778\n",
      "Country Belarus GDP is 2890.345675\n",
      "Country Belgium GDP is 24733.62696\n",
      "Country Bhutan GDP is 1445.760002\n",
      "Country Brazil GDP is 4803.398244\n",
      "Country Bulgaria GDP is 2618.876037\n",
      "Country Cambodia GDP is 590.4521124\n",
      "Country Cameroon GDP is 665.7982328\n",
      "Country Chile GDP is 7122.938458\n",
      "Country China GDP is 2639.54156\n",
      "Country Colombia GDP is 3362.4656\n",
      "Country Cyprus GDP is 15378.16704\n",
      "Country Denmark GDP is 30860.12808\n",
      "Country El Salvador GDP is 2579.115607\n",
      "Country Estonia GDP is 6525.541272\n",
      "Country Ethiopia GDP is 229.6769525\n",
      "Country Fiji GDP is 2242.689259\n",
      "Country Finland GDP is 27570.4852\n",
      "Country France GDP is 23016.84778\n",
      "Country Georgia GDP is 1334.646773\n",
      "Country Ghana GDP is 402.6953275\n",
      "Country Grenada GDP is 6047.200797\n",
      "Country Guinea GDP is 394.1156638\n",
      "Country Haiti GDP is 385.5793827\n",
      "Country Honduras GDP is 1414.072488\n",
      "Country Hungary GDP is 5745.981529\n",
      "Country India GDP is 837.7464011\n",
      "Country Indonesia GDP is 1206.991065\n",
      "Country Ireland GDP is 27715.52837\n",
      "Country Italy GDP is 18937.24998\n",
      "Country Japan GDP is 39578.07441\n",
      "Country Kenya GDP is 478.2194906\n",
      "Country South Korea GDP is 16684.21278\n",
      "Country Liberia GDP is 279.2204061\n",
      "Country Malaysia GDP is 5345.213415\n",
      "Country Mexico GDP is 6288.25324\n",
      "Country Morocco GDP is 1908.304416\n",
      "Country Nepal GDP is 274.8728621\n",
      "Country New Zealand GDP is 14646.42094\n",
      "Country Norway GDP is 40034.85063\n",
      "Country Pakistan GDP is 672.1547506\n",
      "Country Peru GDP is 3359.517402\n",
      "Country Qatar GDP is 36152.66676\n",
      "Country Russia GDP is 3054.727742\n",
      "Country Singapore GDP is 33529.83052\n",
      "Country South Africa GDP is 3825.093781\n",
      "Country Spain GDP is 15428.32098\n",
      "Country Sweden GDP is 33630.24604\n",
      "Country Switzerland GDP is 39170.41371\n",
      "Country Thailand GDP is 2699.123242\n",
      "Country United Arab Emirates GDP is 21058.43643\n",
      "Country United Kingdom GDP is 28272.40661\n",
      "Country United States GDP is 37691.02733\n",
      "Country Uruguay GDP is 9581.05659\n",
      "Country Venezuela GDP is 5671.912202\n",
      "Country Vietnam GDP is 757.4009286\n",
      "Country Zimbabwe GDP is 347.7456605\n"
     ]
    }
   ],
   "source": [
    "import numpy as np\n",
    "\n",
    "list_of_countries=np.array(['Algeria','Angola','Argentina','Australia','Austria','Bahamas','Bangladesh','Belarus','Belgium','Bhutan','Brazil','Bulgaria','Cambodia','Cameroon','Chile','China','Colombia','Cyprus','Denmark','El Salvador','Estonia','Ethiopia','Fiji','Finland','France','Georgia','Ghana','Grenada','Guinea','Haiti','Honduras','Hungary','India','Indonesia','Ireland','Italy','Japan','Kenya', 'South Korea','Liberia','Malaysia','Mexico', 'Morocco','Nepal','New Zealand','Norway','Pakistan', 'Peru','Qatar','Russia','Singapore','South Africa','Spain','Sweden','Switzerland','Thailand', 'United Arab Emirates','United Kingdom','United States','Uruguay','Venezuela','Vietnam','Zimbabwe'])\n",
    "\n",
    "print list_of_countries\n",
    "\n",
    "gdp_of_country=np.array([2255.225482,629.9553062,11601.63022,25306.82494,27266.40335,19466.99052,588.3691778,2890.345675,24733.62696,1445.760002,4803.398244,2618.876037,590.4521124,665.7982328,7122.938458,2639.54156,3362.4656,15378.16704,30860.12808,2579.115607,6525.541272,229.6769525,2242.689259,27570.4852,23016.84778,1334.646773,402.6953275,6047.200797,394.1156638,385.5793827,1414.072488,5745.981529,837.7464011,1206.991065,27715.52837,18937.24998,39578.07441,478.2194906,16684.21278,279.2204061,5345.213415,6288.25324,1908.304416,274.8728621,14646.42094,40034.85063,672.1547506,3359.517402,36152.66676,3054.727742,33529.83052,3825.093781,15428.32098,33630.24604,39170.41371,2699.123242,21058.43643,28272.40661,37691.02733,9581.05659,5671.912202,757.4009286,347.7456605])\n",
    "\n",
    "print gdp_of_country\n",
    "\n",
    "mean_of_gdp=np.mean(gdp_of_country)\n",
    "\n",
    "max_gdp =gdp_of_country.argmax()\n",
    "\n",
    "Country_with_max_gdp=list_of_countries[max_gdp]\n",
    "\n",
    "count =len(gdp_of_country)\n",
    "\n",
    "print max_gdp\n",
    "\n",
    "print 'Country with Maximum GDP is',Country_with_max_gdp\n",
    "\n",
    "print count\n",
    "\n",
    "\n",
    "min_gdp =gdp_of_country.argmin()\n",
    "\n",
    "Country_with_min_gdp=list_of_countries[min_gdp]\n",
    "\n",
    "print 'Country with Minimum GDP is', Country_with_min_gdp,\n",
    "Country_with_max_gdp\n",
    "\n",
    "for i in range(len(list_of_countries)):\n",
    "   Country = list_of_countries[i]\n",
    "   GDP = gdp_of_country[i]\n",
    "   print 'Country {} GDP is {}'.format(Country,GDP)\n",
    "\n",
    "\n",
    "#print mean_of_gdp\n",
    "\n",
    "\n"
   ]
  },
  {
   "cell_type": "code",
   "execution_count": 4,
   "metadata": {},
   "outputs": [
    {
     "name": "stdout",
     "output_type": "stream",
     "text": [
      "11289.409271639683\n"
     ]
    }
   ],
   "source": [
    "print mean_of_gdp"
   ]
  },
  {
   "cell_type": "code",
   "execution_count": 11,
   "metadata": {},
   "outputs": [
    {
     "name": "stdout",
     "output_type": "stream",
     "text": [
      "40034.85063\n",
      "229.6769525\n"
     ]
    },
    {
     "ename": "AttributeError",
     "evalue": "'module' object has no attribute 'tuple'",
     "output_type": "error",
     "traceback": [
      "\u001b[1;31m---------------------------------------------------------------------------\u001b[0m",
      "\u001b[1;31mAttributeError\u001b[0m                            Traceback (most recent call last)",
      "\u001b[1;32m<ipython-input-11-742d4d76fd63>\u001b[0m in \u001b[0;36m<module>\u001b[1;34m()\u001b[0m\n\u001b[0;32m      3\u001b[0m \u001b[0mmin_of_gdp\u001b[0m\u001b[1;33m=\u001b[0m\u001b[0mnp\u001b[0m\u001b[1;33m.\u001b[0m\u001b[0mmin\u001b[0m\u001b[1;33m(\u001b[0m\u001b[0mgdp_of_country\u001b[0m\u001b[1;33m)\u001b[0m\u001b[1;33m\u001b[0m\u001b[0m\n\u001b[0;32m      4\u001b[0m \u001b[1;32mprint\u001b[0m \u001b[0mmin_of_gdp\u001b[0m\u001b[1;33m\u001b[0m\u001b[0m\n\u001b[1;32m----> 5\u001b[1;33m \u001b[0mcountries_with_gdp\u001b[0m\u001b[1;33m=\u001b[0m\u001b[0mnp\u001b[0m\u001b[1;33m.\u001b[0m\u001b[0mtuple\u001b[0m\u001b[1;33m(\u001b[0m\u001b[0mlist_of_countries\u001b[0m\u001b[1;33m,\u001b[0m\u001b[0mgdp_of_country\u001b[0m\u001b[1;33m)\u001b[0m\u001b[1;33m\u001b[0m\u001b[0m\n\u001b[0m\u001b[0;32m      6\u001b[0m \u001b[1;32mprint\u001b[0m \u001b[0mcountries_with_gdp\u001b[0m\u001b[1;33m\u001b[0m\u001b[0m\n",
      "\u001b[1;31mAttributeError\u001b[0m: 'module' object has no attribute 'tuple'"
     ]
    }
   ],
   "source": [
    "max_of_gdp=np.max(gdp_of_country)\n",
    "print max_of_gdp\n",
    "min_of_gdp=np.min(gdp_of_country)\n",
    "print min_of_gdp\n",
    "countries_with_gdp=np.tuple(list_of_countries,gdp_of_country)\n",
    "print countries_with_gdp"
   ]
  },
  {
   "cell_type": "code",
   "execution_count": null,
   "metadata": {},
   "outputs": [],
   "source": []
  }
 ],
 "metadata": {
  "kernelspec": {
   "display_name": "Python 2",
   "language": "python",
   "name": "python2"
  },
  "language_info": {
   "codemirror_mode": {
    "name": "ipython",
    "version": 2
   },
   "file_extension": ".py",
   "mimetype": "text/x-python",
   "name": "python",
   "nbconvert_exporter": "python",
   "pygments_lexer": "ipython2",
   "version": "2.7.14"
  }
 },
 "nbformat": 4,
 "nbformat_minor": 2
}
